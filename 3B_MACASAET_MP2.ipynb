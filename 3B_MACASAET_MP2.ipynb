{
  "nbformat": 4,
  "nbformat_minor": 0,
  "metadata": {
    "colab": {
      "provenance": [],
      "authorship_tag": "ABX9TyPDx7EtgkiVQ1wzW++uSyht",
      "include_colab_link": true
    },
    "kernelspec": {
      "name": "python3",
      "display_name": "Python 3"
    },
    "language_info": {
      "name": "python"
    }
  },
  "cells": [
    {
      "cell_type": "markdown",
      "metadata": {
        "id": "view-in-github",
        "colab_type": "text"
      },
      "source": [
        "<a href=\"https://colab.research.google.com/github/NumKate/CSST101-CS3B/blob/main/3B_MACASAET_MP2.ipynb\" target=\"_parent\"><img src=\"https://colab.research.google.com/assets/colab-badge.svg\" alt=\"Open In Colab\"/></a>"
      ]
    },
    {
      "cell_type": "markdown",
      "source": [
        "# **CSST 101**"
      ],
      "metadata": {
        "id": "hRG8ZtSXj_0Z"
      }
    },
    {
      "cell_type": "markdown",
      "source": [
        "# **1. Propositional Logic Operations**\n",
        "Write Python Functions: Implement basic propositional logic operations including:\n",
        "\n",
        "\n",
        "*   AND (∧): Logical conjunction.\n",
        "*   OR (∨): Logical disjunction.\n",
        "*   NOT (¬): Logical negation.\n",
        "*  IMPLIES (→): Logical implication.\n",
        "\n",
        "Example: Create functions such as and_operation(p, q), or_operation(p, q), not_operation(p), and implies_operation(p, q)"
      ],
      "metadata": {
        "id": "yhNPwbFTVAf-"
      }
    },
    {
      "cell_type": "code",
      "execution_count": 5,
      "metadata": {
        "colab": {
          "base_uri": "https://localhost:8080/"
        },
        "id": "Uf_vrXtHUYti",
        "outputId": "63d0c0e4-b29f-4892-da8f-54f1a79acd9e"
      },
      "outputs": [
        {
          "output_type": "stream",
          "name": "stdout",
          "text": [
            "AND operation (p AND q): False\n",
            "OR operation (p OR q): True\n",
            "NOT operation (NOT p): False\n",
            "IMPLIES operation (p IMPLIES q): False\n",
            "IMPLIES operation (p IMPLIES q): True\n"
          ]
        }
      ],
      "source": [
        "# Function for AND operation (Logical Conjunction)\n",
        "def and_operation(p, q):\n",
        "    \"\"\"\n",
        "    AND Operation:\n",
        "    Returns True if both p and q are True.\n",
        "    \"\"\"\n",
        "    return p and q\n",
        "\n",
        "# Function for OR operation (Logical Disjunction)\n",
        "def or_operation(p, q):\n",
        "    \"\"\"\n",
        "    OR Operation:\n",
        "    Returns True if at least one of p or q is True.\n",
        "    \"\"\"\n",
        "    return p or q\n",
        "\n",
        "# Function for NOT operation (Logical Negation)\n",
        "def not_operation(p):\n",
        "    \"\"\"\n",
        "    NOT Operation:\n",
        "    Returns the opposite of p (True becomes False, False becomes True).\n",
        "    \"\"\"\n",
        "    return not p\n",
        "\n",
        "# Function for IMPLIES operation (Logical Implication)\n",
        "def implies_operation(p, q):\n",
        "    \"\"\"\n",
        "    IMPLIES Operation:\n",
        "    If p is True and q is False, the result is False (because p should imply q).\n",
        "    In all other cases (including when p is False), the result is True.\n",
        "    \"\"\"\n",
        "    return not p or q\n",
        "\n",
        "# Example usage and test cases:\n",
        "\n",
        "# Let's take example propositions for p and q\n",
        "p = True\n",
        "q = False\n",
        "\n",
        "# AND operation example\n",
        "print(f\"AND operation (p AND q): {and_operation(p, q)}\") # Should return False because both are not True\n",
        "\n",
        "# OR operation example\n",
        "print(f\"OR operation (p OR q): {or_operation(p, q)}\")    # Should return True because at least one (p) is True\n",
        "\n",
        "# NOT operation example\n",
        "print(f\"NOT operation (NOT p): {not_operation(p)}\")      # Should return False because p is True, and NOT True is False\n",
        "\n",
        "# IMPLIES operation example\n",
        "print(f\"IMPLIES operation (p IMPLIES q): {implies_operation(p, q)}\")  # Should return False because p is True and q is False\n",
        "\n",
        "# Additional test case for IMPLIES where p is False and q is True\n",
        "p = False\n",
        "q = True\n",
        "print(f\"IMPLIES operation (p IMPLIES q): {implies_operation(p, q)}\")  # Should return True because when p is False, the implication holds"
      ]
    },
    {
      "cell_type": "markdown",
      "source": [
        "# **2. Evaluate Logical Statements:**\n",
        "\n",
        "Create an Evaluation Function: Develop a function that takes logical statements as input and evaluates their truth value.\n",
        "\n",
        "Example: A function evaluate(statement, values) where statement is a logical expression and values is a dictionary mapping propositions to their truth values."
      ],
      "metadata": {
        "id": "YP_DDQEMX1zL"
      }
    },
    {
      "cell_type": "code",
      "source": [
        "# Evaluate Logical Statements\n",
        "\n",
        "def evaluate(statement, values):\n",
        "    \"\"\"\n",
        "    Evaluates the truth value of a logical statement based on the provided truth values of propositions.\n",
        "\n",
        "    Args:\n",
        "    statement (str): The logical expression involving propositions and logical operators (AND, OR, NOT).\n",
        "    values (dict): A dictionary mapping propositions (like 'A', 'B', etc.) to their truth values (True/False).\n",
        "\n",
        "    Returns:\n",
        "    bool: The truth value of the evaluated statement.\n",
        "    \"\"\"\n",
        "\n",
        "    # Replace proposition letters with their truth values from the values dictionary\n",
        "    for prop, truth_value in values.items():\n",
        "        statement = statement.replace(prop, str(truth_value))\n",
        "\n",
        "    # Evaluate the statement using Python's eval function to handle logical operators\n",
        "    # `and`, `or`, `not` are used as the logical operators\n",
        "    try:\n",
        "        return eval(statement)\n",
        "    except:\n",
        "        raise ValueError(\"Invalid statement or values provided.\")\n",
        "\n",
        "# Example Usage\n",
        "\n",
        "# Logical statement: (A AND B) OR NOT C\n",
        "statement = \"(A and B) or not C\"\n",
        "\n",
        "# Propositions with their truth values\n",
        "values = {\n",
        "    \"A\": True,\n",
        "    \"B\": False,\n",
        "    \"C\": True\n",
        "}\n",
        "\n",
        "# Evaluate the logical statement\n",
        "result = evaluate(statement, values)\n",
        "\n",
        "print(f\"Evaluation of '{statement}' with values {values}: {result}\")\n"
      ],
      "metadata": {
        "colab": {
          "base_uri": "https://localhost:8080/"
        },
        "id": "xuXxRhqvYxqH",
        "outputId": "50761e79-df10-4cfe-b9d4-fe93f02672a8"
      },
      "execution_count": 6,
      "outputs": [
        {
          "output_type": "stream",
          "name": "stdout",
          "text": [
            "Evaluation of '(A and B) or not C' with values {'A': True, 'B': False, 'C': True}: False\n"
          ]
        }
      ]
    },
    {
      "cell_type": "markdown",
      "source": [
        "# **3. Extend to Predicate Logic:**\n",
        "\n",
        "Support for Quantifiers: Extend the logic functions to support predicate logic with quantifiers:\n",
        "\n",
        "*   FOR ALL (∀): Universal quantifier.\n",
        "*   EXISTS (∃): Existential quantifier.\n",
        "\n",
        "Example: Create functions forall(predicate, domain) and exists(pre domain) to evaluate predicate logic statements over a given domain.\n",
        "\n"
      ],
      "metadata": {
        "id": "FXZucu4wjJUl"
      }
    },
    {
      "cell_type": "code",
      "source": [
        "# Predicate Logic with Quantifiers: FOR ALL (∀) and EXISTS (∃)\n",
        "\n",
        "def forall(predicate, domain):\n",
        "    \"\"\"\n",
        "    This function checks if a predicate is true for all elements in the domain.\n",
        "\n",
        "    Args:\n",
        "    predicate (function): A function that returns True or False for a given element.\n",
        "    domain (list): A list of elements to check the predicate against.\n",
        "\n",
        "    Returns:\n",
        "    bool: True if the predicate is true for all elements in the domain, False otherwise.\n",
        "    \"\"\"\n",
        "    for element in domain:\n",
        "        if not predicate(element):\n",
        "            return False  # If any element doesn't satisfy the predicate, return False\n",
        "    return True  # If all elements satisfy the predicate, return True\n",
        "\n",
        "def exists(predicate, domain):\n",
        "    \"\"\"\n",
        "    This function checks if there exists at least one element in the domain for which the predicate is true.\n",
        "\n",
        "    Args:\n",
        "    predicate (function): A function that returns True or False for a given element.\n",
        "    domain (list): A list of elements to check the predicate against.\n",
        "\n",
        "    Returns:\n",
        "    bool: True if the predicate is true for at least one element in the domain, False otherwise.\n",
        "    \"\"\"\n",
        "    for element in domain:\n",
        "        if predicate(element):\n",
        "            return True  # If at least one element satisfies the predicate, return True\n",
        "    return False  # If no elements satisfy the predicate, return False\n",
        "\n",
        "# Example Predicates\n",
        "def is_even(x):\n",
        "    \"\"\"Predicate: Returns True if x is an even number.\"\"\"\n",
        "    return x % 2 == 0\n",
        "\n",
        "def is_positive(x):\n",
        "    \"\"\"Predicate: Returns True if x is a positive number.\"\"\"\n",
        "    return x > 0\n",
        "\n",
        "# Example Domain\n",
        "numbers = [2, 4, 6, 8]  # Domain of numbers\n",
        "\n",
        "# Test the forall function\n",
        "print(\"Forall test (is_even):\", forall(is_even, numbers))  # Should return True (all numbers are even)\n",
        "print(\"Forall test (is_positive):\", forall(is_positive, numbers))  # Should return True (all numbers are positive)\n",
        "\n",
        "# Test the exists function\n",
        "print(\"Exists test (is_even):\", exists(is_even, numbers))  # Should return True (there are even numbers)\n",
        "print(\"Exists test (is_positive):\", exists(is_positive, numbers))  # Should return True (there are positive numbers)\n"
      ],
      "metadata": {
        "colab": {
          "base_uri": "https://localhost:8080/"
        },
        "id": "If7RS3_kjN_V",
        "outputId": "166c9994-1c48-4b56-bf0b-05c12f1cc51e"
      },
      "execution_count": 7,
      "outputs": [
        {
          "output_type": "stream",
          "name": "stdout",
          "text": [
            "Forall test (is_even): True\n",
            "Forall test (is_positive): True\n",
            "Exists test (is_even): True\n",
            "Exists test (is_positive): True\n"
          ]
        }
      ]
    },
    {
      "cell_type": "markdown",
      "source": [
        "# **4. AI Agent Development:**\n",
        "\n",
        "Create a Simple AI Agent: Develop an AI agent that uses logic to make decisions in a defined scenario. This could involve:\n",
        "\n",
        "*   Defining the Scenario: For example, a simple decision-making task such as determining the best move in a game or choosing an action based on environmental conditions.\n",
        "*   Implementing the Decision Logic: Use the logic functions to guide the AI agent’s decisions"
      ],
      "metadata": {
        "id": "McRzPyfWJ9dM"
      }
    },
    {
      "cell_type": "code",
      "source": [
        "# Simple AI Agent: Weather-Based Activity Recommender\n",
        "\n",
        "def weather_activity_recommender(weather):\n",
        "    \"\"\"\n",
        "    This AI agent recommends an activity based on the current weather condition.\n",
        "\n",
        "    Args:\n",
        "    weather (str): The current weather condition (e.g., \"sunny\", \"rainy\", \"windy\")\n",
        "\n",
        "    Returns:\n",
        "    str: The recommended activity.\n",
        "    \"\"\"\n",
        "    # Decision Logic\n",
        "    if weather == \"sunny\":\n",
        "        return \"It's a beautiful day! How about going for a walk?\"\n",
        "    elif weather == \"rainy\":\n",
        "        return \"It's rainy outside. Stay indoors and read a good book.\"\n",
        "    elif weather == \"windy\":\n",
        "        return \"It's windy! You can fly a kite.\"\n",
        "    else:\n",
        "        return \"No recommendation available for this weather condition.\"\n",
        "\n",
        "# Test the AI agent by providing different weather conditions\n",
        "weather_conditions = [\"sunny\", \"rainy\", \"windy\", \"snowy\"]  # Example conditions\n",
        "for condition in weather_conditions:\n",
        "    recommendation = weather_activity_recommender(condition)\n",
        "    print(f\"Weather: {condition.capitalize()} -> Recommendation: {recommendation}\")\n"
      ],
      "metadata": {
        "colab": {
          "base_uri": "https://localhost:8080/"
        },
        "id": "9sFzzv9OKYEM",
        "outputId": "7fb1863b-6e0f-4e2a-a135-3987b251bbfc"
      },
      "execution_count": 1,
      "outputs": [
        {
          "output_type": "stream",
          "name": "stdout",
          "text": [
            "Weather: Sunny -> Recommendation: It's a beautiful day! How about going for a walk?\n",
            "Weather: Rainy -> Recommendation: It's rainy outside. Stay indoors and read a good book.\n",
            "Weather: Windy -> Recommendation: It's windy! You can fly a kite.\n",
            "Weather: Snowy -> Recommendation: No recommendation available for this weather condition.\n"
          ]
        }
      ]
    }
  ]
}