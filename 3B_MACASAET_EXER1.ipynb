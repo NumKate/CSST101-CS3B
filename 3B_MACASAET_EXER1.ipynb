{
  "nbformat": 4,
  "nbformat_minor": 0,
  "metadata": {
    "colab": {
      "provenance": [],
      "authorship_tag": "ABX9TyMbQAvHHUUue/QUkXCdeXEu",
      "include_colab_link": true
    },
    "kernelspec": {
      "name": "python3",
      "display_name": "Python 3"
    },
    "language_info": {
      "name": "python"
    }
  },
  "cells": [
    {
      "cell_type": "markdown",
      "metadata": {
        "id": "view-in-github",
        "colab_type": "text"
      },
      "source": [
        "<a href=\"https://colab.research.google.com/github/NumKate/CSST101-CS3B/blob/main/3B_MACASAET_EXER1.ipynb\" target=\"_parent\"><img src=\"https://colab.research.google.com/assets/colab-badge.svg\" alt=\"Open In Colab\"/></a>"
      ]
    },
    {
      "cell_type": "markdown",
      "source": [
        "# **Exercise 1: Propositional Logic in Python**\n",
        "\n",
        "Problem:\n",
        "\n",
        "*   \"If it rains, the ground will be wet\".\n",
        "*   \"If the ground is wet, the match will not light\".\n",
        "*   \"It is raining.\"\n",
        "\n",
        "\n",
        "\n",
        "# Solution:"
      ],
      "metadata": {
        "id": "UNxkwXim4z0E"
      }
    },
    {
      "cell_type": "code",
      "execution_count": 1,
      "metadata": {
        "id": "Fcr4luekyRAe",
        "colab": {
          "base_uri": "https://localhost:8080/"
        },
        "outputId": "65f07ded-d618-41f1-dad6-5f111ca63672"
      },
      "outputs": [
        {
          "output_type": "stream",
          "name": "stdout",
          "text": [
            "The match will not light\n"
          ]
        }
      ],
      "source": [
        "rains = True\n",
        "def ground_wet(rains):\n",
        "  return rains\n",
        "\n",
        "def match_lights(ground_wet):\n",
        "  return not ground_wet\n",
        "\n",
        "if rains:\n",
        "  is_ground_wet = ground_wet(rains)\n",
        "  can_match_light = match_lights(is_ground_wet)\n",
        "\n",
        "  if can_match_light:\n",
        "    print(\"The match will light\")\n",
        "\n",
        "  else :\n",
        "    print(\"The match will not light\")"
      ]
    },
    {
      "cell_type": "markdown",
      "source": [
        "# **Exercise 2: Predict Logic Representation**\n",
        "\n",
        "*   \"All Humans are mortal.\"\n",
        "*   \"Socrates is a human.\"\n",
        "*   \"Therefore, Socrates is mortal.\"\n"
      ],
      "metadata": {
        "id": "GSpsAhUq88vH"
      }
    },
    {
      "cell_type": "code",
      "source": [
        "rains = True\n",
        "def isHuman(person):\n",
        "  return person == \"Socrates\"\n",
        "\n",
        "def isMortal(person):\n",
        "  if isHuman(person):\n",
        "    return True\n",
        "  else:\n",
        "    return False\n",
        "\n",
        "person = \"Socrates\"\n",
        "\n",
        "if isMortal(person):\n",
        "  print(f\"{person} is mortal\")\n",
        "else :\n",
        "  print(f\"{person} in not mortal\")"
      ],
      "metadata": {
        "colab": {
          "base_uri": "https://localhost:8080/"
        },
        "id": "NA4QT3z29lxY",
        "outputId": "089069c1-ebc7-4e4c-8673-24f5fe5a901b"
      },
      "execution_count": 2,
      "outputs": [
        {
          "output_type": "stream",
          "name": "stdout",
          "text": [
            "Socrates is mortal\n"
          ]
        }
      ]
    },
    {
      "cell_type": "markdown",
      "source": [
        "# **Exercise 3: Inference Techniques in Logic**\n",
        "\n",
        "\n",
        "\n",
        "*   Rule: \"If X is true, then Y is true.\"\n",
        "*   Fact: \"X is true.\"\n",
        "*   Conclusion: \"Y is true.\"\n",
        "*   List item\n",
        "\n",
        "\n",
        "\n"
      ],
      "metadata": {
        "id": "O0rpp8R9-7zE"
      }
    },
    {
      "cell_type": "code",
      "source": [
        "def modus_ponens(rules, facts):\n",
        "    conclusions = []\n",
        "    for rule in rules:\n",
        "        premise, conclusion = rule\n",
        "        if premise in facts:\n",
        "            conclusions.append(conclusion)\n",
        "    return conclusions\n",
        "\n",
        "rules = [(\"X\", \"Y\")]\n",
        "facts = [\"X\"]\n",
        "\n",
        "conclusions = modus_ponens(rules, facts)\n",
        "print(\"Inferred Conclusions\", conclusions)"
      ],
      "metadata": {
        "id": "6c-aQz-s_ib2",
        "colab": {
          "base_uri": "https://localhost:8080/"
        },
        "outputId": "843633ff-abd5-4262-8e0c-5b7c2d821d2d"
      },
      "execution_count": 5,
      "outputs": [
        {
          "output_type": "stream",
          "name": "stdout",
          "text": [
            "Inferred Conclusions ['Y']\n"
          ]
        }
      ]
    },
    {
      "cell_type": "markdown",
      "source": [
        "# **Exercise 4: Propositional Logic Representation**\n",
        "\n",
        "*   \"If a person is hungry, they will eat.\"\n",
        "*   \"If a person eats, they wil no longer be hungry.\"\n",
        "*   \"John is Hungry.\"\n",
        "\n",
        "\n"
      ],
      "metadata": {
        "id": "Dci7eua0ASx1"
      }
    },
    {
      "cell_type": "code",
      "source": [
        "hungry = True\n",
        "def noEat(hungry):\n",
        "  return hungry\n",
        "\n",
        "def yesEat(noEat):\n",
        "  return not noEat\n",
        "\n",
        "if hungry:\n",
        "  he_no_eat = noEat(hungry)\n",
        "  he_yes_eat = yesEat(noEat)\n",
        "\n",
        "  if he_yes_eat:\n",
        "    print(\"John is hungry\")\n",
        "\n",
        "  else :\n",
        "    print(\"John will no longer be hungry\")"
      ],
      "metadata": {
        "colab": {
          "base_uri": "https://localhost:8080/"
        },
        "id": "HJjoXBghAtqt",
        "outputId": "bec75509-ef22-4690-ba52-56af6f1a73d9"
      },
      "execution_count": 6,
      "outputs": [
        {
          "output_type": "stream",
          "name": "stdout",
          "text": [
            "John will no longer be hungry\n"
          ]
        }
      ]
    },
    {
      "cell_type": "markdown",
      "source": [
        "# **Implement a Logic-Based Model in Python**"
      ],
      "metadata": {
        "id": "Fyge1hb-Ebck"
      }
    },
    {
      "cell_type": "code",
      "source": [
        "def is_greeting(statement):\n",
        "  greetings = [\"hello\", \"hi\", \"hey\"]\n",
        "  return statement.lower() in greetings\n",
        "\n",
        "def respond(statement):\n",
        "  if is_greeting(statement):\n",
        "    return \"Hello! How can I help you today?\"\n",
        "  else:\n",
        "    return \"I am not sure how to respond to that\"\n",
        "\n",
        "  user_input = input(\"User: \")\n",
        "  response = respond(user_input)\n",
        "  print(f\"Chatbot:  {response}\")"
      ],
      "metadata": {
        "id": "gEdvk9b8lFbL"
      },
      "execution_count": 10,
      "outputs": []
    },
    {
      "cell_type": "markdown",
      "source": [
        "# **Case Study Discussion**\n",
        "\n",
        "In this analysis, I will discuss a logic-based AI system, particularly focusing on chatbots, using the provided Python code as a reference. I will also explore how propositional logic is applied in such systems and reflect on the advantages and challenges of using logic-based models in real-world applications.\n",
        "\n",
        "**1. Logic-Based AI System: Chatbots**\n",
        "Chatbots are a common application of logic-based AI systems. They use predefined rules and logic to understand user inputs and generate appropriate responses. The provided code snippet illustrates a simple chatbot that recognizes greetings.\n",
        "In this code, the function is_greeting checks if the user's input matches any of the defined greetings. If it does, the chatbot responds with a friendly message; otherwise, it indicates uncertainty. This logic-based approach allows the chatbot to handle specific types of input effectively.\n",
        "\n",
        "**2. Application of Propositional Logic**\n",
        "In this chatbot example, propositional logic is used to evaluate statements based on true or false conditions. The chatbot checks if the input statement belongs to a set of known greetings.\n",
        "Propositional Logic: The chatbot operates on simple propositions (e.g., \"Is the input a greeting?\"). If the proposition is true (the input matches a greeting), it leads to a specific conclusion (the chatbot responds positively).\n",
        "This framework is foundational in AI systems, as it allows for clear decision-making paths. By using logical conditions, the chatbot can appropriately respond to user interactions.\n",
        "\n",
        "**3. Advantages and Challenges of Logic-Based Models**\n",
        "Advantages\n",
        "Clarity and Structure: Logic-based models provide a clear framework for decision-making. They allow developers to define rules and conditions systematically, making it easier to understand how the system operates.\n",
        "Predictable Responses: Since the chatbot follows specific logical rules, its responses are consistent and predictable, which can enhance user experience.\n",
        "Ease of Implementation: Simple logic-based systems, like the one in the code, are relatively easy to implement and require less computational power compared to more complex models.\n",
        "\n",
        "**Challenges**\n",
        "Limited Understanding: Logic-based systems often struggle with ambiguity and context. The provided chatbot can only recognize greetings and fails to understand more complex or nuanced user inputs.\n",
        "Scalability Issues: As the complexity of interactions increases, maintaining a large set of rules becomes challenging. It can lead to a cumbersome system that is hard to manage.\n",
        "Non-Monotonic Reasoning: Many real-world scenarios require non-monotonic reasoning, where conclusions can change with new information. Logic-based systems may not handle this well, as they often rely on fixed rules.\n",
        "\n",
        "**Conclusion**\n",
        "Logic-based AI systems, such as chatbots, use propositional logic to make decisions based on clear rules. While they offer advantages like clarity and predictability, they also face challenges in handling complexity and ambiguity. As AI technology advances, integrating more sophisticated reasoning methods may improve these systems' capabilities and adaptability in real-world applications."
      ],
      "metadata": {
        "id": "07BROaX_lOPj"
      }
    }
  ]
}