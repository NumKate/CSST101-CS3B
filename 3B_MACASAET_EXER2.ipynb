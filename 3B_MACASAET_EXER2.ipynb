{
  "nbformat": 4,
  "nbformat_minor": 0,
  "metadata": {
    "colab": {
      "provenance": [],
      "collapsed_sections": [
        "6Vvm3P8ezvG9",
        "CZauIPtB1pkC",
        "FIWAnWbh3h35",
        "JyXhfVsH8vYH"
      ],
      "authorship_tag": "ABX9TyNkmGyCDn+GsssRoCHUwomr",
      "include_colab_link": true
    },
    "kernelspec": {
      "name": "python3",
      "display_name": "Python 3"
    },
    "language_info": {
      "name": "python"
    }
  },
  "cells": [
    {
      "cell_type": "markdown",
      "metadata": {
        "id": "view-in-github",
        "colab_type": "text"
      },
      "source": [
        "<a href=\"https://colab.research.google.com/github/NumKate/CSST101-CS3B/blob/main/3B_MACASAET_EXER2.ipynb\" target=\"_parent\"><img src=\"https://colab.research.google.com/assets/colab-badge.svg\" alt=\"Open In Colab\"/></a>"
      ]
    },
    {
      "cell_type": "markdown",
      "source": [
        "# **Exercise 1: Introduction to Probability Theory in AI**"
      ],
      "metadata": {
        "id": "6Vvm3P8ezvG9"
      }
    },
    {
      "cell_type": "markdown",
      "source": [
        "\n",
        "**Assessment Task 1: Basic Probability Calculations**"
      ],
      "metadata": {
        "id": "4oKRWhwg4pRg"
      }
    },
    {
      "cell_type": "code",
      "execution_count": null,
      "metadata": {
        "id": "sy36WSdCzrz5"
      },
      "outputs": [],
      "source": [
        "def joint_probability(p_A, p_B):\n",
        "  return p_A * p_B\n",
        "\n",
        "def marginal_probability(p_A, p_B):\n",
        "  return p_A + p_B - joint_probability(p_A, p_B)\n",
        "\n",
        "def conditional_probability(p_B_given_A, p_A, p_B):\n",
        "  return (p_B_given_A * p_A) / p_B\n",
        "\n",
        "#Example usage\n",
        "p_A = 0.3 #Probability of event A\n",
        "p_B = 0.4 #Probability of event B\n",
        "p_B_given_A = 0.8 #Conditional probability of B given A\n",
        "\n",
        "print(f\"Joint Probability: {joint_probability(p_A, p_B)}\")\n",
        "print(f\"Marginal Probability: {marginal_probability(p_A, p_B)}\")\n",
        "print(f\"Joint Probability: {conditional_probability(p_B_given_A, p_A, p_B)}\")"
      ]
    },
    {
      "cell_type": "markdown",
      "source": [
        "**Feedback:**\n",
        "  - Basically, this code performs the basic probability calculations of joint probability, marginal probability, and conditional probability. We give a variable the event A and B and so on the joint probability. p_A for event A and p_B. To get the joint probability, we need to calculate the event A and B using multiplication. In marginal probability we used the addition and the conditional probabilitiy we used all the given. 0.8 which is for conditional P. and 0.3 for event a. Multiply this two numbers and divide the answer to event B which is 0.4."
      ],
      "metadata": {
        "id": "vA-YYWGX-WOq"
      }
    },
    {
      "cell_type": "markdown",
      "source": [
        "# **Exercise 2: Decision-Making Under Uncertainty**"
      ],
      "metadata": {
        "id": "CZauIPtB1pkC"
      }
    },
    {
      "cell_type": "markdown",
      "source": [
        "**Assessment Task 2: Bayesian Inference**"
      ],
      "metadata": {
        "id": "w3bu8BMs4ytu"
      }
    },
    {
      "cell_type": "code",
      "source": [
        "def bayesian_inference(prior, positive_result, likelihood_positive):\n",
        "  posterior = (positive_result * prior) / test_positive\n",
        "  return posterior\n",
        "\n",
        "# Example probabilities\n",
        "positive_disease = 0.1\n",
        "positive_result = 0.9\n",
        "test_positive = 0.05\n",
        "\n",
        "posterior_disease = bayesian_inference(positive_disease, positive_result, test_positive)\n",
        "print(f\"Posterior probability of disease given positive test: {posterior_disease}\")"
      ],
      "metadata": {
        "id": "i5xLVoSQ3kcW"
      },
      "execution_count": null,
      "outputs": []
    },
    {
      "cell_type": "markdown",
      "source": [
        "**Feedback:**\n",
        "  - The probability of a person who tested positive that actually has the disease is 1.8"
      ],
      "metadata": {
        "id": "GGeW0CSI_9K_"
      }
    },
    {
      "cell_type": "markdown",
      "source": [
        "# **Exercise 3: Applying Probability Theory in AI for Diagnosis**"
      ],
      "metadata": {
        "id": "FIWAnWbh3h35"
      }
    },
    {
      "cell_type": "code",
      "source": [
        "import numpy as np\n",
        "def simulate_decision(num_simulations, p_success, reward_success, reward_failure):\n",
        "  outcomes = []\n",
        "  for _ in range(num_simulations):\n",
        "    if np.random.rand() < p_success:\n",
        "      outcomes.append(reward_success)\n",
        "    else:\n",
        "      outcomes.append(reward_failure)\n",
        "  return np.mean(outcomes)\n",
        "\n",
        "# Example: Simulating 1000 decisions attempts\n",
        "p_success = 0.7 # Probability of success\n",
        "reward_success = 1000 # Reward for success\n",
        "reward_failure = 500 # Penalty for failure\n",
        "\n",
        "average_outcome = simulate_decision(1000, p_success, reward_success, reward_failure)\n",
        "print(f\"Expected value of decision: {average_outcome}\")"
      ],
      "metadata": {
        "id": "XjBBT_Ms1tJf"
      },
      "execution_count": null,
      "outputs": []
    },
    {
      "cell_type": "markdown",
      "source": [
        "**Feedback:**\n",
        "  -"
      ],
      "metadata": {
        "id": "1ZAAu2r5C2T1"
      }
    },
    {
      "cell_type": "markdown",
      "source": [
        "**Assessment Task 3: Decision-Making Under Uncertainty**"
      ],
      "metadata": {
        "id": "b9RnCCU342YF"
      }
    },
    {
      "cell_type": "markdown",
      "source": [
        "# **Exercise 4: Probability Distribution in AI**"
      ],
      "metadata": {
        "id": "JTwSDyOH47LT"
      }
    },
    {
      "cell_type": "markdown",
      "source": [
        "**Assessment Task 4: Real-World Scenario**"
      ],
      "metadata": {
        "id": "ABcdxkVo803u"
      }
    },
    {
      "cell_type": "code",
      "source": [
        "import numpy as np\n",
        "import matplotlib.pyplot as plt\n",
        "\n",
        "# Simulating a binomial distribution (e.g., flipping a coin)\n",
        "n_trials = 1000\n",
        "p_head = 0.5\n",
        "binomial_distribution = np.random.binomial(n=1, p=p_head, size=n_trials)\n",
        "\n",
        "#Plotting the distribution\n",
        "plt.hist(binomial_distribution, bins=2)\n",
        "plt.title('Binomial Distribution (Coin Flips)')\n",
        "plt.show()"
      ],
      "metadata": {
        "id": "L4iYlb5o48gT"
      },
      "execution_count": null,
      "outputs": []
    },
    {
      "cell_type": "markdown",
      "source": [
        "# **Exercise 5: Real-World Application of Probability in AI**"
      ],
      "metadata": {
        "id": "JyXhfVsH8vYH"
      }
    },
    {
      "cell_type": "code",
      "source": [
        "# Example probabilities based on observed customer behavior\n",
        "p_purchase_given_cart = 0.4 # Conditional probability of purchase given an item in the cart\n",
        "p_cart = 0.3 # Probability of adding an item to the cart\n",
        "\n",
        "# Calculating the probability of a customer making a purchase\n",
        "p_purchase = conditional_probability(p_purchase_given_cart, p_cart, 1)\n",
        "print(f\"Probability of Purchase: {p_purchase}\")"
      ],
      "metadata": {
        "id": "dBYrLwOt8swM"
      },
      "execution_count": null,
      "outputs": []
    }
  ]
}