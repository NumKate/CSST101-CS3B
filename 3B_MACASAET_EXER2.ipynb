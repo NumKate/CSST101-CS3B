{
  "nbformat": 4,
  "nbformat_minor": 0,
  "metadata": {
    "colab": {
      "provenance": [],
      "collapsed_sections": [
        "6Vvm3P8ezvG9",
        "CZauIPtB1pkC",
        "FIWAnWbh3h35",
        "JyXhfVsH8vYH"
      ],
      "authorship_tag": "ABX9TyPwVB5yml3bjcmefxhXw23a",
      "include_colab_link": true
    },
    "kernelspec": {
      "name": "python3",
      "display_name": "Python 3"
    },
    "language_info": {
      "name": "python"
    }
  },
  "cells": [
    {
      "cell_type": "markdown",
      "metadata": {
        "id": "view-in-github",
        "colab_type": "text"
      },
      "source": [
        "<a href=\"https://colab.research.google.com/github/NumKate/CSST101-CS3B/blob/main/3B_MACASAET_EXER2.ipynb\" target=\"_parent\"><img src=\"https://colab.research.google.com/assets/colab-badge.svg\" alt=\"Open In Colab\"/></a>"
      ]
    },
    {
      "cell_type": "markdown",
      "source": [
        "# **Exercise 1: Introduction to Probability Theory in AI**"
      ],
      "metadata": {
        "id": "6Vvm3P8ezvG9"
      }
    },
    {
      "cell_type": "markdown",
      "source": [
        "\n",
        "**Assessment Task 1: Basic Probability Calculations**"
      ],
      "metadata": {
        "id": "4oKRWhwg4pRg"
      }
    },
    {
      "cell_type": "code",
      "execution_count": null,
      "metadata": {
        "id": "sy36WSdCzrz5"
      },
      "outputs": [],
      "source": [
        "def joint_probability(p_A, p_B):\n",
        "  return p_A * p_B\n",
        "\n",
        "def marginal_probability(p_A, p_B):\n",
        "  return p_A + p_B - joint_probability(p_A, p_B)\n",
        "\n",
        "def conditional_probability(p_B_given_A, p_A, p_B):\n",
        "  return (p_B_given_A * p_A) / p_B\n",
        "\n",
        "#Example usage\n",
        "p_A = 0.3 #Probability of event A\n",
        "p_B = 0.4 #Probability of event B\n",
        "p_B_given_A = 0.8 #Conditional probability of B given A\n",
        "\n",
        "print(f\"Joint Probability: {joint_probability(p_A, p_B)}\")\n",
        "print(f\"Marginal Probability: {marginal_probability(p_A, p_B)}\")\n",
        "print(f\"Conditional Probability: {conditional_probability(p_B_given_A, p_A, p_B)}\")"
      ]
    },
    {
      "cell_type": "markdown",
      "source": [
        "**Feedback:**\n",
        "  - Basically, this code performs the basic probability calculations of joint probability, marginal probability, and conditional probability. We give a variable the event A and B and so on the joint probability. p_A for event A and p_B. To get the joint probability, we need to calculate the event A and B using multiplication. In marginal probability we used the addition and the conditional probabilitiy we used all the given. 0.8 which is for conditional P. and 0.3 for event a. Multiply this two numbers and divide the answer to event B which is 0.4."
      ],
      "metadata": {
        "id": "vA-YYWGX-WOq"
      }
    },
    {
      "cell_type": "markdown",
      "source": [
        "# **Exercise 2: Decision-Making Under Uncertainty**"
      ],
      "metadata": {
        "id": "CZauIPtB1pkC"
      }
    },
    {
      "cell_type": "markdown",
      "source": [
        "**Assessment Task 2: Bayesian Inference**"
      ],
      "metadata": {
        "id": "w3bu8BMs4ytu"
      }
    },
    {
      "cell_type": "code",
      "source": [
        "def bayesian_inference(prior, positive_result, likelihood_positive):\n",
        "  posterior = (positive_result * prior) / test_positive\n",
        "  return posterior\n",
        "\n",
        "# Example probabilities\n",
        "positive_disease = 0.1\n",
        "positive_result = 0.9\n",
        "test_positive = 0.05\n",
        "\n",
        "posterior_disease = bayesian_inference(positive_disease, positive_result, test_positive)\n",
        "print(f\"Posterior probability of disease given positive test: {posterior_disease}\")"
      ],
      "metadata": {
        "id": "i5xLVoSQ3kcW"
      },
      "execution_count": null,
      "outputs": []
    },
    {
      "cell_type": "markdown",
      "source": [
        "**Feedback:**\n",
        "  - The function `bayesian_inference` takes three inputs: `prior`, which is the initial probability of having the disease (before any test), `positive_result`, which represents how likely it is to get a positive test result if you actually have the disease, and `test_positive`, which shows how often the test gives a positive result overall. This is done using a simple formula that multiplies the initial probability by the likelihood of a positive result and then divides by the overall rate of positive tests. In the example, we set the initial probability of having the disease to 0.1 (10%), the likelihood of a positive result when having the disease to 0.9 (90%), and the overall rate of positive tests to 0.05 (5%). This code helps us understand how new information can change our beliefs about probabilities. The probability of a person who tested positive that actually has the disease is 1.8"
      ],
      "metadata": {
        "id": "GGeW0CSI_9K_"
      }
    },
    {
      "cell_type": "markdown",
      "source": [
        "# **Exercise 3: Applying Probability Theory in AI for Diagnosis**"
      ],
      "metadata": {
        "id": "FIWAnWbh3h35"
      }
    },
    {
      "cell_type": "markdown",
      "source": [
        "**Assessment Task 3: Decision-Making Under Uncertainty**"
      ],
      "metadata": {
        "id": "b9RnCCU342YF"
      }
    },
    {
      "cell_type": "code",
      "source": [
        "import numpy as np\n",
        "def simulate_decision(num_simulations, p_success, reward_success, reward_failure):\n",
        "  outcomes = []\n",
        "  for _ in range(num_simulations):\n",
        "    if np.random.rand() < p_success:\n",
        "      outcomes.append(reward_success)\n",
        "    else:\n",
        "      outcomes.append(reward_failure)\n",
        "  return np.mean(outcomes)\n",
        "\n",
        "# Example: Simulating 1000 decisions attempts\n",
        "p_success = 0.7 # Probability of success\n",
        "reward_success = 1000 # Reward for success\n",
        "reward_failure = 500 # Penalty for failure\n",
        "\n",
        "average_outcome = simulate_decision(1000, p_success, reward_success, reward_failure)\n",
        "print(f\"Expected value of decision: {average_outcome}\")"
      ],
      "metadata": {
        "id": "XjBBT_Ms1tJf"
      },
      "execution_count": null,
      "outputs": []
    },
    {
      "cell_type": "markdown",
      "source": [
        "**Feedback:**\n",
        "  - This code simulates a decision-making process and calculates the expected value of the decision based on the probability of success, the reward for success, and the penalty for failure. The he code simulates 1000 decision attempts with a probability of success of 0.7 (70%), a reward of 1000 for success, and a penalty of 500 for failure. The `simulate_decision` function is called with these parameters, and the expected value of the decision is calculated and printed. This code can be useful for evaluating the potential outcomes of a decision based on probabilities and rewards/penalties, allowing for informed decision-making."
      ],
      "metadata": {
        "id": "1ZAAu2r5C2T1"
      }
    },
    {
      "cell_type": "markdown",
      "source": [
        "# **Exercise 4: Probability Distribution in AI**"
      ],
      "metadata": {
        "id": "JTwSDyOH47LT"
      }
    },
    {
      "cell_type": "markdown",
      "source": [
        "**Assessment Task 4: Real-World Scenario**"
      ],
      "metadata": {
        "id": "ABcdxkVo803u"
      }
    },
    {
      "cell_type": "code",
      "source": [
        "humid = 0.6\n",
        "cloudy = 0.8\n",
        "\n",
        "rain = conditional_probability(humid, cloudy, 1)\n",
        "print(f\"Probability of rain: {rain}\")"
      ],
      "metadata": {
        "id": "cUTCrJ8jpnfF",
        "colab": {
          "base_uri": "https://localhost:8080/",
          "height": 193
        },
        "collapsed": true,
        "outputId": "882ec7b0-8738-4dc2-ed4c-6d10d9ccc66d"
      },
      "execution_count": 1,
      "outputs": [
        {
          "output_type": "error",
          "ename": "NameError",
          "evalue": "name 'conditional_probability' is not defined",
          "traceback": [
            "\u001b[0;31m---------------------------------------------------------------------------\u001b[0m",
            "\u001b[0;31mNameError\u001b[0m                                 Traceback (most recent call last)",
            "\u001b[0;32m<ipython-input-1-508850ad06af>\u001b[0m in \u001b[0;36m<cell line: 4>\u001b[0;34m()\u001b[0m\n\u001b[1;32m      2\u001b[0m \u001b[0mcloudy\u001b[0m \u001b[0;34m=\u001b[0m \u001b[0;36m0.8\u001b[0m\u001b[0;34m\u001b[0m\u001b[0;34m\u001b[0m\u001b[0m\n\u001b[1;32m      3\u001b[0m \u001b[0;34m\u001b[0m\u001b[0m\n\u001b[0;32m----> 4\u001b[0;31m \u001b[0mrain\u001b[0m \u001b[0;34m=\u001b[0m \u001b[0mconditional_probability\u001b[0m\u001b[0;34m(\u001b[0m\u001b[0mhumid\u001b[0m\u001b[0;34m,\u001b[0m \u001b[0mcloudy\u001b[0m\u001b[0;34m,\u001b[0m \u001b[0;36m1\u001b[0m\u001b[0;34m)\u001b[0m\u001b[0;34m\u001b[0m\u001b[0;34m\u001b[0m\u001b[0m\n\u001b[0m\u001b[1;32m      5\u001b[0m \u001b[0mprint\u001b[0m\u001b[0;34m(\u001b[0m\u001b[0;34mf\"Probability of rain: {rain}\"\u001b[0m\u001b[0;34m)\u001b[0m\u001b[0;34m\u001b[0m\u001b[0;34m\u001b[0m\u001b[0m\n",
            "\u001b[0;31mNameError\u001b[0m: name 'conditional_probability' is not defined"
          ]
        }
      ]
    },
    {
      "cell_type": "markdown",
      "source": [
        "**Feedback:**\n",
        "  - This code is designed to predict the likelihood of rain based on certain factors: the probability of rain, humidity, and cloud cover. The function `conditional_probability` takes three inputs: `p_rain`, which is the chance of rain happening, `humidity`, which indicates how much moisture is in the air, and `cloud_cover`, which shows how much of the sky is covered by clouds. Inside the function, it calculates the conditional probability of rain by multiplying the chance of rain by the humidity and then dividing that result by the cloud cover. In the example provided, we set humidity to 0.3 (30%), cloud cover to 0.4 (40%), and the chance of rain to 0.8 (80%). When we call the function and print the result, it shows us how likely it is to rain given these conditions. This simple approach helps us understand how different weather factors can influence the chances of rainfall."
      ],
      "metadata": {
        "id": "qx9lLorBeCyv"
      }
    },
    {
      "cell_type": "markdown",
      "source": [
        "# **Exercise 5: Real-World Application of Probability in AI**"
      ],
      "metadata": {
        "id": "JyXhfVsH8vYH"
      }
    },
    {
      "cell_type": "code",
      "source": [
        "import numpy as np\n",
        "import matplotlib.pyplot as plt\n",
        "\n",
        "# Simulating a binomial distribution (e.g., flipping a coin)\n",
        "n_trials = 1000\n",
        "p_head = 0.5\n",
        "binomial_distribution = np.random.binomial(n=1, p=p_head, size=n_trials)\n",
        "\n",
        "#Plotting the distribution\n",
        "plt.hist(binomial_distribution, bins=3)\n",
        "plt.title('Binomial Distribution (Coin Flips)')\n",
        "plt.show()"
      ],
      "metadata": {
        "colab": {
          "base_uri": "https://localhost:8080/",
          "height": 452
        },
        "id": "L4iYlb5o48gT",
        "outputId": "2f9bfd53-fd83-45dc-ee3d-5ec017844c62"
      },
      "execution_count": null,
      "outputs": [
        {
          "output_type": "display_data",
          "data": {
            "text/plain": [
              "<Figure size 640x480 with 1 Axes>"
            ],
            "image/png": "[encoded data removed]"
          },
          "metadata": {}
        }
      ]
    }
  ]
}